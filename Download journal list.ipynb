{
 "cells": [
  {
   "cell_type": "code",
   "execution_count": 1,
   "id": "48c2dc1b",
   "metadata": {},
   "outputs": [],
   "source": [
    "from bs4 import BeautifulSoup\n",
    "from utils import get_chromedriver\n",
    "import requests\n",
    "from soup2dict import convert\n",
    "import pandas as pd\n",
    "import numpy as np\n",
    "import re\n",
    "\n",
    "from selenium.webdriver.common.by import By\n",
    "from selenium.webdriver.support.ui import WebDriverWait\n",
    "from selenium.webdriver.support import expected_conditions as EC\n",
    "from selenium.webdriver.common.action_chains import ActionChains\n",
    "\n",
    "import config"
   ]
  },
  {
   "cell_type": "code",
   "execution_count": 2,
   "id": "afb5fb3c",
   "metadata": {},
   "outputs": [],
   "source": [
    "CHROMEDRIVER_PATH = r\"C:\\Users\\Alessandro Bitetto\\Downloads\\UniPV\\0 Tools\\Download ABS ranking\\WebDriver\\chromedriver\""
   ]
  },
  {
   "cell_type": "code",
   "execution_count": 3,
   "id": "0fd3fd2b",
   "metadata": {},
   "outputs": [],
   "source": [
    "URL = 'https://charteredabs.org/academic-journal-guide-2021-view/'"
   ]
  },
  {
   "cell_type": "code",
   "execution_count": 4,
   "id": "dfbf1829",
   "metadata": {},
   "outputs": [],
   "source": [
    "SAVE_PATH = './/ABS list.xlsx'"
   ]
  },
  {
   "cell_type": "code",
   "execution_count": 5,
   "id": "a3ff1576",
   "metadata": {},
   "outputs": [
    {
     "name": "stdout",
     "output_type": "stream",
     "text": [
      "Login... Done\n",
      "Show All... Done\n",
      "\n",
      "\n",
      "1698 journals found\n",
      "\n",
      "\n",
      "Data exported in .//ABS list.xlsx\n"
     ]
    }
   ],
   "source": [
    "driver=get_chromedriver(chromedriver_path=CHROMEDRIVER_PATH)\n",
    "driver.get(URL)\n",
    "\n",
    "wait=WebDriverWait(driver, 20)\n",
    "\n",
    "# login\n",
    "print('Login... ', end='')\n",
    "login_button=wait.until(\n",
    "    EC.presence_of_element_located((By.XPATH, '/html/body/div[1]/div[4]/div/div[2]/p/a')))\n",
    "login_button.click()\n",
    "\n",
    "user=wait.until(\n",
    "    EC.presence_of_element_located((By.XPATH, \"/html/body/div[1]/form/p[1]/input\")))\n",
    "user.send_keys(config.User)\n",
    "pwd=wait.until(\n",
    "    EC.presence_of_element_located((By.XPATH, \"/html/body/div[1]/form/div/div/input\")))\n",
    "pwd.send_keys(config.Password)\n",
    "\n",
    "login_button=wait.until(\n",
    "    EC.presence_of_element_located((By.XPATH, '/html/body/div[1]/form/p[3]/input[1]')))\n",
    "login_button.click()\n",
    "print('Done')\n",
    "\n",
    "driver.get(URL)\n",
    "\n",
    "# select All\n",
    "print('Show All... ', end='')\n",
    "showButton=wait.until(\n",
    "    EC.presence_of_element_located((By.XPATH, \"/html/body/div[1]/div[4]/div/div[2]/div[1]/div/div/div/div[2]/div[2]/div[3]/label/div/button\")))\n",
    "actions=ActionChains(driver)\n",
    "actions.move_to_element(showButton).pause(2).click().perform()\n",
    "AllButton=wait.until(\n",
    "    EC.visibility_of_element_located((By.XPATH, '/html/body/div[1]/div[4]/div/div[2]/div[1]/div/div/div/div[2]/div[2]/div[3]/label/div/div/ul/li[7]/a')))\n",
    "AllButton.click()\n",
    "# wait for the page to load\n",
    "while True:\n",
    "    page_source=BeautifulSoup(driver.page_source, 'html.parser').prettify()\n",
    "    res = re.search(r',\\d{3}\\sentries', page_source)\n",
    "    span=res.span()\n",
    "    total_expected_entries=page_source[(span[0]-4):span[1]].replace(',', '')\n",
    "    total_expected_entries=int(''.join([x for x in total_expected_entries if x.isdigit()]))\n",
    "    total_expected_entries_string='{:,}'.format(total_expected_entries)\n",
    "    string_to_appear=f'Showing 1 to {total_expected_entries_string} of {total_expected_entries_string} entries'\n",
    "    if string_to_appear in page_source:\n",
    "        break        \n",
    "print('Done')\n",
    "\n",
    "# scrape list\n",
    "soup = convert(BeautifulSoup(driver.page_source, 'html.parser'))\n",
    "table=soup['html'][0]['body'][0]['div'][0]['div'][3]['div'][0]['div'][1]['div'][0]['div'][0]['div'][0]['div'][0]['div'][1]['div'][1]['table'][0]\n",
    "\n",
    "col_names=[]\n",
    "for tt in table['thead'][0]['tr'][1]['th']:\n",
    "    col_names.append(tt['navigablestring'][0])\n",
    "    \n",
    "df_list=pd.DataFrame()\n",
    "for tt in table['tbody'][0]['tr']:\n",
    "    issn=tt['td'][0]['navigablestring'][0]\n",
    "    field=tt['td'][1]['navigablestring'][0]\n",
    "    title=tt['td'][2]['navigablestring'][0]\n",
    "    publisher=field=tt['td'][3]['navigablestring'][0]\n",
    "    scopus_link=''\n",
    "    if 'a' in tt['td'][4].keys():\n",
    "        scopus_link=tt['td'][4]['a'][0]['@href']\n",
    "    wos_link=''\n",
    "    if 'a' in tt['td'][5].keys():\n",
    "        wos_link=tt['td'][5]['a'][0]['@href']\n",
    "    rankings=[]\n",
    "    for i in range(6, len(col_names)):\n",
    "        rankings.append(tt['td'][i]['#text'])\n",
    "    add_row=pd.DataFrame(np.array([issn, field, title, publisher, scopus_link, wos_link] + rankings).reshape(1,-1), columns=col_names)\n",
    "    df_list=pd.concat([df_list, add_row])\n",
    "print(f'\\n\\n{len(df_list)} journals found')\n",
    "if total_expected_entries != len(df_list):\n",
    "    print(f'####### Mismatch in downloaded journals: {total_expected_entries} expected.')\n",
    "df_list.reset_index(drop=True).to_excel(SAVE_PATH, sheet_name='ABS list', index=False)\n",
    "print(f'\\n\\nData exported in {SAVE_PATH}')\n",
    "\n",
    "driver.close()"
   ]
  }
 ],
 "metadata": {
  "kernelspec": {
   "display_name": "Python (ICO)",
   "language": "python",
   "name": "ico"
  },
  "language_info": {
   "codemirror_mode": {
    "name": "ipython",
    "version": 3
   },
   "file_extension": ".py",
   "mimetype": "text/x-python",
   "name": "python",
   "nbconvert_exporter": "python",
   "pygments_lexer": "ipython3",
   "version": "3.9.16"
  }
 },
 "nbformat": 4,
 "nbformat_minor": 5
}
